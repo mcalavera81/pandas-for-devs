{
 "cells": [
  {
   "cell_type": "code",
   "execution_count": 1,
   "metadata": {
    "collapsed": true
   },
   "outputs": [],
   "source": [
    "from bs4 import BeautifulSoup\n",
    "import pandas as pd\n",
    "import requests as r"
   ]
  },
  {
   "cell_type": "markdown",
   "metadata": {},
   "source": [
    "## Munging Data"
   ]
  },
  {
   "cell_type": "code",
   "execution_count": 2,
   "metadata": {
    "collapsed": true
   },
   "outputs": [],
   "source": [
    "df = pd.read_csv('my-ava-raw.csv')"
   ]
  },
  {
   "cell_type": "code",
   "execution_count": 3,
   "metadata": {
    "collapsed": false
   },
   "outputs": [
    {
     "data": {
      "text/plain": [
       "Unnamed: 0                           int64\n",
       "Accident and Rescue Summary:        object\n",
       "Aspect:                             object\n",
       "Avalanche Problem:                  object\n",
       "Avalanche Type:                     object\n",
       "Buried - Fully:                    float64\n",
       "Buried - Partly:                   float64\n",
       "Carried:                           float64\n",
       "Caught:                            float64\n",
       "Comments:                           object\n",
       "Coordinates:                        object\n",
       "Depth:                              object\n",
       "Elevation:                          object\n",
       "Injured:                           float64\n",
       "Killed:                              int64\n",
       "Location Name or Route:             object\n",
       "Observation Date:                   object\n",
       "Observer Name:                      object\n",
       "Occurence Time:                     object\n",
       "Occurrence Date:                    object\n",
       "Region:                             object\n",
       "Slope Angle:                       float64\n",
       "Snow Profile Comments:              object\n",
       "Terrain Summary:                    object\n",
       "Trigger:                            object\n",
       "Trigger: additional info:           object\n",
       "Vertical:                           object\n",
       "Video:                             float64\n",
       "Weak Layer:                         object\n",
       "Weather Conditions and History:     object\n",
       "Width:                              object\n",
       "coordinates                         object\n",
       "killed                               int64\n",
       "occurrence-date                     object\n",
       "region-forecaster                   object\n",
       "region-forecaster-1                 object\n",
       "trigger                             object\n",
       "url                                 object\n",
       "dtype: object"
      ]
     },
     "execution_count": 3,
     "metadata": {},
     "output_type": "execute_result"
    }
   ],
   "source": [
    "df.dtypes"
   ]
  },
  {
   "cell_type": "code",
   "execution_count": 4,
   "metadata": {
    "collapsed": false
   },
   "outputs": [
    {
     "data": {
      "text/html": [
       "<div>\n",
       "<style scoped>\n",
       "    .dataframe tbody tr th:only-of-type {\n",
       "        vertical-align: middle;\n",
       "    }\n",
       "\n",
       "    .dataframe tbody tr th {\n",
       "        vertical-align: top;\n",
       "    }\n",
       "\n",
       "    .dataframe thead th {\n",
       "        text-align: right;\n",
       "    }\n",
       "</style>\n",
       "<table border=\"1\" class=\"dataframe\">\n",
       "  <thead>\n",
       "    <tr style=\"text-align: right;\">\n",
       "      <th></th>\n",
       "      <th>Unnamed: 0</th>\n",
       "      <th>Buried - Fully:</th>\n",
       "      <th>Buried - Partly:</th>\n",
       "      <th>Carried:</th>\n",
       "      <th>Caught:</th>\n",
       "      <th>Injured:</th>\n",
       "      <th>Killed:</th>\n",
       "      <th>Slope Angle:</th>\n",
       "      <th>Video:</th>\n",
       "      <th>killed</th>\n",
       "    </tr>\n",
       "  </thead>\n",
       "  <tbody>\n",
       "    <tr>\n",
       "      <th>count</th>\n",
       "      <td>98.000000</td>\n",
       "      <td>69.000000</td>\n",
       "      <td>25.0</td>\n",
       "      <td>77.000000</td>\n",
       "      <td>78.000000</td>\n",
       "      <td>7.000000</td>\n",
       "      <td>98.000000</td>\n",
       "      <td>43.000000</td>\n",
       "      <td>0.0</td>\n",
       "      <td>98.000000</td>\n",
       "    </tr>\n",
       "    <tr>\n",
       "      <th>mean</th>\n",
       "      <td>48.500000</td>\n",
       "      <td>1.173913</td>\n",
       "      <td>1.2</td>\n",
       "      <td>1.649351</td>\n",
       "      <td>1.692308</td>\n",
       "      <td>1.142857</td>\n",
       "      <td>1.183673</td>\n",
       "      <td>37.906977</td>\n",
       "      <td>NaN</td>\n",
       "      <td>1.183673</td>\n",
       "    </tr>\n",
       "    <tr>\n",
       "      <th>std</th>\n",
       "      <td>28.434134</td>\n",
       "      <td>0.418559</td>\n",
       "      <td>0.5</td>\n",
       "      <td>1.144394</td>\n",
       "      <td>1.176697</td>\n",
       "      <td>0.377964</td>\n",
       "      <td>0.504555</td>\n",
       "      <td>5.558408</td>\n",
       "      <td>NaN</td>\n",
       "      <td>0.504555</td>\n",
       "    </tr>\n",
       "    <tr>\n",
       "      <th>min</th>\n",
       "      <td>0.000000</td>\n",
       "      <td>1.000000</td>\n",
       "      <td>1.0</td>\n",
       "      <td>1.000000</td>\n",
       "      <td>1.000000</td>\n",
       "      <td>1.000000</td>\n",
       "      <td>1.000000</td>\n",
       "      <td>10.000000</td>\n",
       "      <td>NaN</td>\n",
       "      <td>1.000000</td>\n",
       "    </tr>\n",
       "    <tr>\n",
       "      <th>25%</th>\n",
       "      <td>24.250000</td>\n",
       "      <td>1.000000</td>\n",
       "      <td>1.0</td>\n",
       "      <td>1.000000</td>\n",
       "      <td>1.000000</td>\n",
       "      <td>1.000000</td>\n",
       "      <td>1.000000</td>\n",
       "      <td>36.000000</td>\n",
       "      <td>NaN</td>\n",
       "      <td>1.000000</td>\n",
       "    </tr>\n",
       "    <tr>\n",
       "      <th>50%</th>\n",
       "      <td>48.500000</td>\n",
       "      <td>1.000000</td>\n",
       "      <td>1.0</td>\n",
       "      <td>1.000000</td>\n",
       "      <td>1.000000</td>\n",
       "      <td>1.000000</td>\n",
       "      <td>1.000000</td>\n",
       "      <td>38.000000</td>\n",
       "      <td>NaN</td>\n",
       "      <td>1.000000</td>\n",
       "    </tr>\n",
       "    <tr>\n",
       "      <th>75%</th>\n",
       "      <td>72.750000</td>\n",
       "      <td>1.000000</td>\n",
       "      <td>1.0</td>\n",
       "      <td>2.000000</td>\n",
       "      <td>2.000000</td>\n",
       "      <td>1.000000</td>\n",
       "      <td>1.000000</td>\n",
       "      <td>40.000000</td>\n",
       "      <td>NaN</td>\n",
       "      <td>1.000000</td>\n",
       "    </tr>\n",
       "    <tr>\n",
       "      <th>max</th>\n",
       "      <td>97.000000</td>\n",
       "      <td>3.000000</td>\n",
       "      <td>3.0</td>\n",
       "      <td>7.000000</td>\n",
       "      <td>7.000000</td>\n",
       "      <td>2.000000</td>\n",
       "      <td>4.000000</td>\n",
       "      <td>50.000000</td>\n",
       "      <td>NaN</td>\n",
       "      <td>4.000000</td>\n",
       "    </tr>\n",
       "  </tbody>\n",
       "</table>\n",
       "</div>"
      ],
      "text/plain": [
       "       Unnamed: 0  Buried - Fully:  Buried - Partly:   Carried:    Caught:  \\\n",
       "count   98.000000        69.000000              25.0  77.000000  78.000000   \n",
       "mean    48.500000         1.173913               1.2   1.649351   1.692308   \n",
       "std     28.434134         0.418559               0.5   1.144394   1.176697   \n",
       "min      0.000000         1.000000               1.0   1.000000   1.000000   \n",
       "25%     24.250000         1.000000               1.0   1.000000   1.000000   \n",
       "50%     48.500000         1.000000               1.0   1.000000   1.000000   \n",
       "75%     72.750000         1.000000               1.0   2.000000   2.000000   \n",
       "max     97.000000         3.000000               3.0   7.000000   7.000000   \n",
       "\n",
       "       Injured:    Killed:  Slope Angle:  Video:     killed  \n",
       "count  7.000000  98.000000     43.000000     0.0  98.000000  \n",
       "mean   1.142857   1.183673     37.906977     NaN   1.183673  \n",
       "std    0.377964   0.504555      5.558408     NaN   0.504555  \n",
       "min    1.000000   1.000000     10.000000     NaN   1.000000  \n",
       "25%    1.000000   1.000000     36.000000     NaN   1.000000  \n",
       "50%    1.000000   1.000000     38.000000     NaN   1.000000  \n",
       "75%    1.000000   1.000000     40.000000     NaN   1.000000  \n",
       "max    2.000000   4.000000     50.000000     NaN   4.000000  "
      ]
     },
     "execution_count": 4,
     "metadata": {},
     "output_type": "execute_result"
    }
   ],
   "source": [
    "df.describe()"
   ]
  },
  {
   "cell_type": "code",
   "execution_count": 5,
   "metadata": {
    "collapsed": false
   },
   "outputs": [
    {
     "data": {
      "text/plain": [
       "Index(['Unnamed: 0', 'Accident and Rescue Summary:', 'Aspect:',\n",
       "       'Avalanche Problem:', 'Avalanche Type:', 'Buried - Fully:',\n",
       "       'Buried - Partly:', 'Carried:', 'Caught:', 'Comments:', 'Coordinates:',\n",
       "       'Depth:', 'Elevation:', 'Injured:', 'Killed:',\n",
       "       'Location Name or Route:', 'Observation Date:', 'Observer Name:',\n",
       "       'Occurence Time:', 'Occurrence Date:', 'Region:', 'Slope Angle:',\n",
       "       'Snow Profile Comments:', 'Terrain Summary:', 'Trigger:',\n",
       "       'Trigger: additional info:', 'Vertical:', 'Video:', 'Weak Layer:',\n",
       "       'Weather Conditions and History:', 'Width:', 'coordinates', 'killed',\n",
       "       'occurrence-date', 'region-forecaster', 'region-forecaster-1',\n",
       "       'trigger', 'url'],\n",
       "      dtype='object')"
      ]
     },
     "execution_count": 5,
     "metadata": {},
     "output_type": "execute_result"
    }
   ],
   "source": [
    "df.columns"
   ]
  },
  {
   "cell_type": "code",
   "execution_count": 6,
   "metadata": {
    "collapsed": true
   },
   "outputs": [],
   "source": [
    "df = df.rename(columns={x:x.replace(':', '') for x in df.columns})"
   ]
  },
  {
   "cell_type": "code",
   "execution_count": 7,
   "metadata": {
    "collapsed": false
   },
   "outputs": [
    {
     "data": {
      "text/plain": [
       "Northeast    25\n",
       "North        14\n",
       "Northwest    10\n",
       "East          9\n",
       "Southeast     3\n",
       "West          3\n",
       "South         2\n",
       "Southwest     1\n",
       "Name: Aspect, dtype: int64"
      ]
     },
     "execution_count": 7,
     "metadata": {},
     "output_type": "execute_result"
    }
   ],
   "source": [
    "df.Aspect.value_counts()"
   ]
  },
  {
   "cell_type": "code",
   "execution_count": 8,
   "metadata": {
    "collapsed": false
   },
   "outputs": [
    {
     "data": {
      "text/plain": [
       "Persistent Slab    15\n",
       "Storm Slab          3\n",
       "Wind Slab           3\n",
       "Deep Slab           3\n",
       "Wet Slab            2\n",
       "Glide               1\n",
       "Name: Avalanche Problem, dtype: int64"
      ]
     },
     "execution_count": 8,
     "metadata": {},
     "output_type": "execute_result"
    }
   ],
   "source": [
    "df['Avalanche Problem'].value_counts()"
   ]
  },
  {
   "cell_type": "code",
   "execution_count": 9,
   "metadata": {
    "collapsed": false
   },
   "outputs": [
    {
     "data": {
      "text/plain": [
       "Hard Slab       27\n",
       "Soft Slab       26\n",
       "Wet Slab         1\n",
       "Cornice Fall     1\n",
       "Name: Avalanche Type, dtype: int64"
      ]
     },
     "execution_count": 9,
     "metadata": {},
     "output_type": "execute_result"
    }
   ],
   "source": [
    "df['Avalanche Type'].value_counts()"
   ]
  },
  {
   "cell_type": "code",
   "execution_count": 10,
   "metadata": {
    "collapsed": false
   },
   "outputs": [
    {
     "data": {
      "text/plain": [
       "0       3'\n",
       "1      18\"\n",
       "2     2.5'\n",
       "3       4'\n",
       "4       4'\n",
       "5      18\"\n",
       "6       8\"\n",
       "7       2'\n",
       "8       3'\n",
       "9       2'\n",
       "10     16\"\n",
       "11      3'\n",
       "12    2.5'\n",
       "13     16\"\n",
       "14     NaN\n",
       "15    3.5'\n",
       "16      8'\n",
       "17    3.5'\n",
       "18      3'\n",
       "19      2'\n",
       "20      4'\n",
       "21    4.5'\n",
       "22     12\"\n",
       "23    4.5'\n",
       "24    3.5'\n",
       "25    3.5'\n",
       "26     20\"\n",
       "27    2.5'\n",
       "28      3'\n",
       "29      3'\n",
       "      ... \n",
       "68     NaN\n",
       "69     NaN\n",
       "70     NaN\n",
       "71     NaN\n",
       "72     NaN\n",
       "73     NaN\n",
       "74      3'\n",
       "75     NaN\n",
       "76      5'\n",
       "77      4'\n",
       "78      2'\n",
       "79    3.5'\n",
       "80      2'\n",
       "81      2'\n",
       "82      2'\n",
       "83      2'\n",
       "84     18\"\n",
       "85    3.5'\n",
       "86    2.5'\n",
       "87      2'\n",
       "88      3'\n",
       "89      4'\n",
       "90      2'\n",
       "91      3'\n",
       "92      3'\n",
       "93     NaN\n",
       "94      4\"\n",
       "95     NaN\n",
       "96      3'\n",
       "97     NaN\n",
       "Name: Depth, Length: 98, dtype: object"
      ]
     },
     "execution_count": 10,
     "metadata": {},
     "output_type": "execute_result"
    }
   ],
   "source": [
    "df.Depth"
   ]
  },
  {
   "cell_type": "code",
   "execution_count": 11,
   "metadata": {
    "collapsed": false
   },
   "outputs": [
    {
     "data": {
      "text/plain": [
       "(18.0, 30.0)"
      ]
     },
     "execution_count": 11,
     "metadata": {},
     "output_type": "execute_result"
    }
   ],
   "source": [
    "import re\n",
    "\n",
    "def to_inches(orig):\n",
    "    reg = r\"\"\"(((\\d*\\.)?\\d*)')?(((\\d*\\.)?\\d*)\")?\"\"\"\n",
    "    txt = str(orig)\n",
    "    if txt == 'nan':\n",
    "        return orig\n",
    "    mo = re.search(reg, txt)\n",
    "    feet = mo.group(2) or 0\n",
    "    inches = mo.group(5) or 0\n",
    "    return float(feet)*12 + float(inches)\n",
    "\n",
    "to_inches('18\"'), to_inches(\"2.5'\")"
   ]
  },
  {
   "cell_type": "code",
   "execution_count": 12,
   "metadata": {
    "collapsed": true
   },
   "outputs": [],
   "source": [
    "df['depth_inches'] = df.Depth.apply(to_inches)"
   ]
  },
  {
   "cell_type": "code",
   "execution_count": 13,
   "metadata": {
    "collapsed": false
   },
   "outputs": [
    {
     "data": {
      "text/plain": [
       "0     36.0\n",
       "1     18.0\n",
       "2     30.0\n",
       "3     48.0\n",
       "4     48.0\n",
       "5     18.0\n",
       "6      8.0\n",
       "7     24.0\n",
       "8     36.0\n",
       "9     24.0\n",
       "10    16.0\n",
       "11    36.0\n",
       "12    30.0\n",
       "13    16.0\n",
       "14     NaN\n",
       "15    42.0\n",
       "16    96.0\n",
       "17    42.0\n",
       "18    36.0\n",
       "19    24.0\n",
       "20    48.0\n",
       "21    54.0\n",
       "22    12.0\n",
       "23    54.0\n",
       "24    42.0\n",
       "25    42.0\n",
       "26    20.0\n",
       "27    30.0\n",
       "28    36.0\n",
       "29    36.0\n",
       "      ... \n",
       "68     NaN\n",
       "69     NaN\n",
       "70     NaN\n",
       "71     NaN\n",
       "72     NaN\n",
       "73     NaN\n",
       "74    36.0\n",
       "75     NaN\n",
       "76    60.0\n",
       "77    48.0\n",
       "78    24.0\n",
       "79    42.0\n",
       "80    24.0\n",
       "81    24.0\n",
       "82    24.0\n",
       "83    24.0\n",
       "84    18.0\n",
       "85    42.0\n",
       "86    30.0\n",
       "87    24.0\n",
       "88    36.0\n",
       "89    48.0\n",
       "90    24.0\n",
       "91    36.0\n",
       "92    36.0\n",
       "93     NaN\n",
       "94     4.0\n",
       "95     NaN\n",
       "96    36.0\n",
       "97     NaN\n",
       "Name: depth_inches, Length: 98, dtype: float64"
      ]
     },
     "execution_count": 13,
     "metadata": {},
     "output_type": "execute_result"
    }
   ],
   "source": [
    "df.depth_inches"
   ]
  },
  {
   "cell_type": "code",
   "execution_count": 14,
   "metadata": {
    "collapsed": false
   },
   "outputs": [
    {
     "data": {
      "text/plain": [
       "count    63.000000\n",
       "mean     32.301587\n",
       "std      17.440808\n",
       "min       0.000000\n",
       "25%      24.000000\n",
       "50%      30.000000\n",
       "75%      42.000000\n",
       "max      96.000000\n",
       "Name: depth_inches, dtype: float64"
      ]
     },
     "execution_count": 14,
     "metadata": {},
     "output_type": "execute_result"
    }
   ],
   "source": [
    "df.depth_inches.describe()"
   ]
  },
  {
   "cell_type": "markdown",
   "metadata": {},
   "source": [
    "## More munging"
   ]
  },
  {
   "cell_type": "code",
   "execution_count": 15,
   "metadata": {
    "collapsed": false
   },
   "outputs": [
    {
     "data": {
      "text/plain": [
       "0         Sunday, January 31, 2016\n",
       "1       Thursday, January 21, 2016\n",
       "2         Wednesday, March 4, 2015\n",
       "3            Friday, March 7, 2014\n",
       "4         Sunday, February 9, 2014\n",
       "5       Saturday, February 8, 2014\n",
       "6         Thursday, April 11, 2013\n",
       "7            Friday, March 1, 2013\n",
       "8         Friday, January 18, 2013\n",
       "9          Saturday, March 3, 2012\n",
       "10     Thursday, February 23, 2012\n",
       "11        Sunday, February 5, 2012\n",
       "12      Saturday, January 28, 2012\n",
       "13       Sunday, November 13, 2011\n",
       "14        Saturday, March 26, 2011\n",
       "15       Friday, November 26, 2010\n",
       "16           Sunday, April 4, 2010\n",
       "17        Friday, January 29, 2010\n",
       "18     Wednesday, January 27, 2010\n",
       "19        Sunday, January 24, 2010\n",
       "20      Tuesday, December 30, 2008\n",
       "21    Wednesday, December 24, 2008\n",
       "22       Sunday, December 14, 2008\n",
       "23       Monday, December 31, 2007\n",
       "24      Tuesday, December 25, 2007\n",
       "25       Sunday, December 23, 2007\n",
       "26    Wednesday, February 21, 2007\n",
       "27       Sunday, February 18, 2007\n",
       "28     Saturday, February 17, 2007\n",
       "29     Saturday, February 17, 2007\n",
       "                  ...             \n",
       "68         Saturday, April 3, 1993\n",
       "69     Thursday, February 25, 1993\n",
       "70      Saturday, January 16, 1993\n",
       "71        Wednesday, April 1, 1992\n",
       "72    Wednesday, February 12, 1992\n",
       "73     Saturday, November 25, 1989\n",
       "74       Sunday, February 15, 1987\n",
       "75     Thursday, November 20, 1986\n",
       "76    Wednesday, February 19, 1986\n",
       "77       Monday, February 17, 1986\n",
       "78         Monday, January 6, 1986\n",
       "79    Wednesday, November 13, 1985\n",
       "80         Tuesday, March 19, 1985\n",
       "81       Friday, February 22, 1985\n",
       "82         Monday, January 2, 1984\n",
       "83          Monday, March 22, 1982\n",
       "84           Sunday, March 1, 1981\n",
       "85        Sunday, February 1, 1981\n",
       "86        Friday, January 11, 1980\n",
       "87           Monday, April 2, 1979\n",
       "88        Friday, January 19, 1979\n",
       "89         Thursday, March 3, 1977\n",
       "90        Tuesday, January 6, 1976\n",
       "91     Saturday, December 29, 1973\n",
       "92       Tuesday, January 20, 1970\n",
       "93       Monday, February 19, 1968\n",
       "94       Sunday, February 12, 1967\n",
       "95       Friday, December 31, 1965\n",
       "96          Sunday, March 29, 1964\n",
       "97           Sunday, March 9, 1958\n",
       "Name: Occurrence Date, Length: 98, dtype: object"
      ]
     },
     "execution_count": 15,
     "metadata": {},
     "output_type": "execute_result"
    }
   ],
   "source": [
    "df['Occurrence Date']"
   ]
  },
  {
   "cell_type": "code",
   "execution_count": 16,
   "metadata": {
    "collapsed": false
   },
   "outputs": [
    {
     "data": {
      "text/plain": [
       "0    2016-01-31\n",
       "1    2016-01-21\n",
       "2    2015-03-04\n",
       "3    2014-03-07\n",
       "4    2014-02-09\n",
       "5    2014-02-08\n",
       "6    2013-04-11\n",
       "7    2013-03-01\n",
       "8    2013-01-18\n",
       "9    2012-03-03\n",
       "10   2012-02-23\n",
       "11   2012-02-05\n",
       "12   2012-01-28\n",
       "13   2011-11-13\n",
       "14   2011-03-26\n",
       "15   2010-11-26\n",
       "16   2010-04-04\n",
       "17   2010-01-29\n",
       "18   2010-01-27\n",
       "19   2010-01-24\n",
       "20   2008-12-30\n",
       "21   2008-12-24\n",
       "22   2008-12-14\n",
       "23   2007-12-31\n",
       "24   2007-12-25\n",
       "25   2007-12-23\n",
       "26   2007-02-21\n",
       "27   2007-02-18\n",
       "28   2007-02-17\n",
       "29   2007-02-17\n",
       "        ...    \n",
       "68   1993-04-03\n",
       "69   1993-02-25\n",
       "70   1993-01-16\n",
       "71   1992-04-01\n",
       "72   1992-02-12\n",
       "73   1989-11-25\n",
       "74   1987-02-15\n",
       "75   1986-11-20\n",
       "76   1986-02-19\n",
       "77   1986-02-17\n",
       "78   1986-01-06\n",
       "79   1985-11-13\n",
       "80   1985-03-19\n",
       "81   1985-02-22\n",
       "82   1984-01-02\n",
       "83   1982-03-22\n",
       "84   1981-03-01\n",
       "85   1981-02-01\n",
       "86   1980-01-11\n",
       "87   1979-04-02\n",
       "88   1979-01-19\n",
       "89   1977-03-03\n",
       "90   1976-01-06\n",
       "91   1973-12-29\n",
       "92   1970-01-20\n",
       "93   1968-02-19\n",
       "94   1967-02-12\n",
       "95   1965-12-31\n",
       "96   1964-03-29\n",
       "97   1958-03-09\n",
       "Name: Occurrence Date, Length: 98, dtype: datetime64[ns]"
      ]
     },
     "execution_count": 16,
     "metadata": {},
     "output_type": "execute_result"
    }
   ],
   "source": [
    "pd.to_datetime(df['Occurrence Date'])"
   ]
  },
  {
   "cell_type": "code",
   "execution_count": 17,
   "metadata": {
    "collapsed": false
   },
   "outputs": [],
   "source": [
    "df['year'] = pd.to_datetime(df['Occurrence Date']).dt.year"
   ]
  },
  {
   "cell_type": "code",
   "execution_count": 18,
   "metadata": {
    "collapsed": true
   },
   "outputs": [],
   "source": [
    "df['dow'] = df['Occurrence Date'].apply(lambda x: x.split(',')[0])"
   ]
  },
  {
   "cell_type": "code",
   "execution_count": 19,
   "metadata": {
    "collapsed": false
   },
   "outputs": [
    {
     "data": {
      "text/plain": [
       "Saturday     29\n",
       "Sunday       16\n",
       "Friday       15\n",
       "Thursday     12\n",
       "Monday       10\n",
       "Wednesday    10\n",
       "Tuesday       6\n",
       "Name: dow, dtype: int64"
      ]
     },
     "execution_count": 19,
     "metadata": {},
     "output_type": "execute_result"
    }
   ],
   "source": [
    "df.dow.value_counts()"
   ]
  },
  {
   "cell_type": "code",
   "execution_count": 20,
   "metadata": {
    "collapsed": false
   },
   "outputs": [
    {
     "data": {
      "text/plain": [
       "0         300\n",
       "1        1250\n",
       "2        1500\n",
       "3         200\n",
       "4         175\n",
       "5         125\n",
       "6        1500\n",
       "7         250\n",
       "8          50\n",
       "9        1000\n",
       "10        600\n",
       "11        350\n",
       "12       2500\n",
       "13        800\n",
       "14        900\n",
       "15    Unknown\n",
       "16       1000\n",
       "17       1000\n",
       "18        600\n",
       "19       1500\n",
       "20        500\n",
       "21        700\n",
       "22       1000\n",
       "23        450\n",
       "24        400\n",
       "25        600\n",
       "26        600\n",
       "27       1500\n",
       "28        250\n",
       "29        250\n",
       "       ...   \n",
       "68        NaN\n",
       "69        NaN\n",
       "70        NaN\n",
       "71        NaN\n",
       "72        NaN\n",
       "73        NaN\n",
       "74        500\n",
       "75        NaN\n",
       "76       1000\n",
       "77        350\n",
       "78        700\n",
       "79        600\n",
       "80        NaN\n",
       "81        400\n",
       "82       1500\n",
       "83        500\n",
       "84        700\n",
       "85        100\n",
       "86        200\n",
       "87        600\n",
       "88        250\n",
       "89        500\n",
       "90        100\n",
       "91        300\n",
       "92        300\n",
       "93        NaN\n",
       "94       1500\n",
       "95        300\n",
       "96       1250\n",
       "97       1250\n",
       "Name: Vertical, Length: 98, dtype: object"
      ]
     },
     "execution_count": 20,
     "metadata": {},
     "output_type": "execute_result"
    }
   ],
   "source": [
    "df.Vertical"
   ]
  },
  {
   "cell_type": "code",
   "execution_count": 21,
   "metadata": {
    "collapsed": false
   },
   "outputs": [],
   "source": [
    "df['vert'] = df.Vertical.str.replace('Unknown', 'NaN').astype(float)\n",
    "df['vert'] = df.vert.fillna(df.vert.median())"
   ]
  },
  {
   "cell_type": "code",
   "execution_count": 22,
   "metadata": {
    "collapsed": false
   },
   "outputs": [
    {
     "data": {
      "text/plain": [
       "count      98.000000\n",
       "mean      653.061224\n",
       "std       375.545399\n",
       "min        50.000000\n",
       "25%       500.000000\n",
       "50%       600.000000\n",
       "75%       600.000000\n",
       "max      2500.000000\n",
       "Name: vert, dtype: float64"
      ]
     },
     "execution_count": 22,
     "metadata": {},
     "output_type": "execute_result"
    }
   ],
   "source": [
    "df.vert.describe()"
   ]
  },
  {
   "cell_type": "code",
   "execution_count": 23,
   "metadata": {
    "collapsed": false
   },
   "outputs": [
    {
     "data": {
      "text/plain": [
       "0     40.681035109898, -111.598269411350\n",
       "1     40.666951474815, -111.685399884810\n",
       "2     41.215552643517, -111.873779284110\n",
       "3     40.812120000000, -110.906296000000\n",
       "4     39.585986000000, -111.270003000000\n",
       "5     40.482366000000, -111.648088000000\n",
       "6     40.629000000000, -111.666412000000\n",
       "7     39.043600000000, -111.519000000000\n",
       "8                                    NaN\n",
       "9     38.539320000000, -109.209852000000\n",
       "10    40.653034000000, -111.592255000000\n",
       "11    38.716456000000, -111.721988000000\n",
       "12    40.624442000000, -111.669588000000\n",
       "13    40.568491000000, -111.652937000000\n",
       "14    39.372824000000, -111.422482000000\n",
       "15    40.847320000000, -111.015129000000\n",
       "16    41.050424000000, -111.844082000000\n",
       "17    40.856199868806, -111.754991041400\n",
       "18    40.617112000000, -111.623840000000\n",
       "19    41.215563000000, -111.873307000000\n",
       "20    40.871988000000, -110.974016000000\n",
       "21    41.711752000000, -111.717181000000\n",
       "22    40.569632000000, -111.641693000000\n",
       "23        0.000000000000, 0.000000000000\n",
       "24    40.834820000000, -111.008220000000\n",
       "25    40.660164000000, -111.596117000000\n",
       "26    40.666707000000, -111.683493000000\n",
       "27    41.211302000000, -111.878414000000\n",
       "28    40.393071000000, -111.140785000000\n",
       "29    38.628762622838, -112.023038851360\n",
       "                     ...                \n",
       "68    40.585286000000, -111.605041000000\n",
       "69                                   NaN\n",
       "70    40.372185694061, -111.585446285570\n",
       "71    40.551518000000, -111.649544000000\n",
       "72                                   NaN\n",
       "73                                   NaN\n",
       "74    40.591841000000, -111.604827000000\n",
       "75                                   NaN\n",
       "76    40.566950000000, -111.624353000000\n",
       "77    40.606262000000, -111.576839000000\n",
       "78    40.285983000000, -111.506379000000\n",
       "79    40.577629000000, -111.594312000000\n",
       "80    40.641857000000, -111.520412000000\n",
       "81    41.362519000000, -111.782882000000\n",
       "82    40.593007000000, -111.659243000000\n",
       "83    40.694668000000, -111.604312000000\n",
       "84    40.664995000000, -111.693146000000\n",
       "85    40.631609000000, -111.654308000000\n",
       "86    40.606529000000, -111.594484000000\n",
       "87    40.656105000000, -111.602252000000\n",
       "88    39.702192039624, -110.949728952290\n",
       "89    40.564342704045, -111.652085678840\n",
       "90    40.586506674316, -111.626428069460\n",
       "91                                   NaN\n",
       "92    40.572657369383, -111.651414858090\n",
       "93    40.265380469741, -111.618347155190\n",
       "94    40.708361000000, -111.759796000000\n",
       "95    40.631302096436, -111.516682134840\n",
       "96    41.204951129311, -111.900259481650\n",
       "97    41.205508551921, -111.875901000480\n",
       "Name: coordinates, Length: 98, dtype: object"
      ]
     },
     "execution_count": 23,
     "metadata": {},
     "output_type": "execute_result"
    }
   ],
   "source": [
    "df.coordinates"
   ]
  },
  {
   "cell_type": "code",
   "execution_count": 24,
   "metadata": {
    "collapsed": true
   },
   "outputs": [],
   "source": [
    "def lon(val):\n",
    "    if str(val) == 'nan':\n",
    "        return float('nan')\n",
    "    else:\n",
    "        return float(val.split(',')[-1])\n",
    "\n",
    "df['lon'] = df.coordinates.apply(lon)"
   ]
  },
  {
   "cell_type": "code",
   "execution_count": 25,
   "metadata": {
    "collapsed": false
   },
   "outputs": [
    {
     "data": {
      "text/plain": [
       "count     82.000000\n",
       "mean    -110.196626\n",
       "std       12.324395\n",
       "min     -112.023039\n",
       "25%     -111.684457\n",
       "50%     -111.616567\n",
       "75%     -111.534519\n",
       "max        0.000000\n",
       "Name: lon, dtype: float64"
      ]
     },
     "execution_count": 25,
     "metadata": {},
     "output_type": "execute_result"
    }
   ],
   "source": [
    "df.lon.describe()"
   ]
  },
  {
   "cell_type": "code",
   "execution_count": 26,
   "metadata": {
    "collapsed": true
   },
   "outputs": [],
   "source": [
    "df['lat'] = df.coordinates.apply(lambda x: float(x.split(',')[0]) if str(x) != 'nan' else float('nan'))"
   ]
  },
  {
   "cell_type": "code",
   "execution_count": 27,
   "metadata": {
    "collapsed": false
   },
   "outputs": [
    {
     "data": {
      "text/plain": [
       "count    82.000000\n",
       "mean     40.016124\n",
       "std       4.514445\n",
       "min       0.000000\n",
       "25%      40.422754\n",
       "50%      40.606194\n",
       "75%      40.678187\n",
       "max      41.711752\n",
       "Name: lat, dtype: float64"
      ]
     },
     "execution_count": 27,
     "metadata": {},
     "output_type": "execute_result"
    }
   ],
   "source": [
    "df.lat.describe()"
   ]
  },
  {
   "cell_type": "markdown",
   "metadata": {},
   "source": [
    "## Plotting Data"
   ]
  },
  {
   "cell_type": "code",
   "execution_count": 28,
   "metadata": {
    "collapsed": false
   },
   "outputs": [
    {
     "data": {
      "text/plain": [
       "Unnamed 0                           int64\n",
       "Accident and Rescue Summary        object\n",
       "Aspect                             object\n",
       "Avalanche Problem                  object\n",
       "Avalanche Type                     object\n",
       "Buried - Fully                    float64\n",
       "Buried - Partly                   float64\n",
       "Carried                           float64\n",
       "Caught                            float64\n",
       "Comments                           object\n",
       "Coordinates                        object\n",
       "Depth                              object\n",
       "Elevation                          object\n",
       "Injured                           float64\n",
       "Killed                              int64\n",
       "Location Name or Route             object\n",
       "Observation Date                   object\n",
       "Observer Name                      object\n",
       "Occurence Time                     object\n",
       "Occurrence Date                    object\n",
       "Region                             object\n",
       "Slope Angle                       float64\n",
       "Snow Profile Comments              object\n",
       "Terrain Summary                    object\n",
       "Trigger                            object\n",
       "Trigger additional info            object\n",
       "Vertical                           object\n",
       "Video                             float64\n",
       "Weak Layer                         object\n",
       "Weather Conditions and History     object\n",
       "Width                              object\n",
       "coordinates                        object\n",
       "killed                              int64\n",
       "occurrence-date                    object\n",
       "region-forecaster                  object\n",
       "region-forecaster-1                object\n",
       "trigger                            object\n",
       "url                                object\n",
       "depth_inches                      float64\n",
       "year                                int64\n",
       "dow                                object\n",
       "vert                              float64\n",
       "lon                               float64\n",
       "lat                               float64\n",
       "dtype: object"
      ]
     },
     "execution_count": 28,
     "metadata": {},
     "output_type": "execute_result"
    }
   ],
   "source": [
    "df.dtypes"
   ]
  },
  {
   "cell_type": "code",
   "execution_count": 36,
   "metadata": {
    "collapsed": false
   },
   "outputs": [
    {
     "data": {
      "text/plain": [
       "<matplotlib.axes._subplots.AxesSubplot at 0x7fccb83e2390>"
      ]
     },
     "execution_count": 36,
     "metadata": {},
     "output_type": "execute_result"
    },
    {
     "data": {
      "image/png": "[encoded data removed]",
      "text/plain": [
       "<matplotlib.figure.Figure at 0x7fccead71d30>"
      ]
     },
     "metadata": {},
     "output_type": "display_data"
    }
   ],
   "source": [
    "%matplotlib inline\n",
    "df.lon[df.lon < 0].hist()"
   ]
  },
  {
   "cell_type": "code",
   "execution_count": null,
   "metadata": {
    "collapsed": false
   },
   "outputs": [],
   "source": [
    "df.depth_inches.hist()"
   ]
  },
  {
   "cell_type": "code",
   "execution_count": null,
   "metadata": {
    "collapsed": false
   },
   "outputs": [],
   "source": [
    "df.plot.scatter('lat', 'lon')"
   ]
  },
  {
   "cell_type": "code",
   "execution_count": null,
   "metadata": {
    "collapsed": false
   },
   "outputs": [],
   "source": [
    "df[df.lat > 0].plot.scatter('lat', 'lon')"
   ]
  },
  {
   "cell_type": "code",
   "execution_count": null,
   "metadata": {
    "collapsed": false
   },
   "outputs": [],
   "source": [
    "import gmaps # pip install gmaps"
   ]
  },
  {
   "cell_type": "code",
   "execution_count": null,
   "metadata": {
    "collapsed": true
   },
   "outputs": [],
   "source": [
    "gmaps.heatmap([x for x in zip(df.lat, df.lon)])"
   ]
  },
  {
   "cell_type": "code",
   "execution_count": null,
   "metadata": {
    "collapsed": true
   },
   "outputs": [],
   "source": [
    "gmaps.heatmap([x for x in zip(df.lat, df.lon) if str(x[0]) != 'nan'])"
   ]
  },
  {
   "cell_type": "code",
   "execution_count": null,
   "metadata": {
    "collapsed": true
   },
   "outputs": [],
   "source": [
    "gmaps.heatmap([x for x in zip(df.lat, df.lon) if str(x[0]) != 'nan'],\n",
    "             max_intensity=1)"
   ]
  },
  {
   "cell_type": "code",
   "execution_count": null,
   "metadata": {
    "collapsed": true
   },
   "outputs": [],
   "source": [
    "import folium # pip install folium\n",
    "from IPython.display import HTML"
   ]
  },
  {
   "cell_type": "code",
   "execution_count": null,
   "metadata": {
    "collapsed": false,
    "scrolled": true
   },
   "outputs": [],
   "source": [
    "def inline_map(map):\n",
    "    map._build_map()\n",
    "    return HTML('<iframe srcdoc=\"{}\" style=\"width:100%; height: 500px;\"></iframe>'.format(\n",
    "        map.HTML.replace('\"', '&quot;')))\n",
    "\n",
    "def summary(i, row):\n",
    "    return '''<b>{} {} {} {}</b\n",
    "    <p>{}</p>'''.format(i, row['year'], row['Trigger'], row['Location Name or Route'],\n",
    "                       row['Accident and Rescue Summary'])\n",
    "\n",
    "center = [40.5, -111.5]\n",
    "map = folium.Map(location=center, zoom_start=10, tiles='Stamen Terrain', height=700)\n",
    "for i, row in df.iterrows():\n",
    "    if str(row.lat) == 'nan' or row.lat == 0:\n",
    "        continue\n",
    "    map.simple_marker([row.lat, row.lon], popup=summary(i, row))\n",
    "\n",
    "inline_map(map)\n"
   ]
  },
  {
   "cell_type": "code",
   "execution_count": null,
   "metadata": {
    "collapsed": true
   },
   "outputs": [],
   "source": []
  }
 ],
 "metadata": {
  "kernelspec": {
   "display_name": "Python 3",
   "language": "python",
   "name": "python3"
  },
  "language_info": {
   "codemirror_mode": {
    "name": "ipython",
    "version": 3
   },
   "file_extension": ".py",
   "mimetype": "text/x-python",
   "name": "python",
   "nbconvert_exporter": "python",
   "pygments_lexer": "ipython3",
   "version": "3.6.3"
  }
 },
 "nbformat": 4,
 "nbformat_minor": 2
}
