{
 "cells": [
  {
   "cell_type": "code",
   "execution_count": 2,
   "metadata": {
    "collapsed": false
   },
   "outputs": [],
   "source": [
    "import pandas as pd\n",
    "from pandas_datareader import data\n",
    "import numpy as np\n",
    "from dateutil.parser import parse"
   ]
  },
  {
   "cell_type": "code",
   "execution_count": null,
   "metadata": {
    "collapsed": true
   },
   "outputs": [],
   "source": []
  },
  {
   "cell_type": "code",
   "execution_count": null,
   "metadata": {
    "collapsed": true
   },
   "outputs": [],
   "source": []
  },
  {
   "cell_type": "markdown",
   "metadata": {},
   "source": [
    "## Window Functions"
   ]
  },
  {
   "cell_type": "code",
   "execution_count": 3,
   "metadata": {
    "collapsed": true
   },
   "outputs": [],
   "source": [
    "idx = pd.date_range('1/1/2000', periods=500, freq='d')"
   ]
  },
  {
   "cell_type": "code",
   "execution_count": 4,
   "metadata": {
    "collapsed": false
   },
   "outputs": [
    {
     "data": {
      "text/plain": [
       "DatetimeIndex(['2000-01-01', '2000-01-02', '2000-01-03', '2000-01-04',\n",
       "               '2000-01-05', '2000-01-06', '2000-01-07', '2000-01-08',\n",
       "               '2000-01-09', '2000-01-10',\n",
       "               ...\n",
       "               '2001-05-05', '2001-05-06', '2001-05-07', '2001-05-08',\n",
       "               '2001-05-09', '2001-05-10', '2001-05-11', '2001-05-12',\n",
       "               '2001-05-13', '2001-05-14'],\n",
       "              dtype='datetime64[ns]', length=500, freq='D')"
      ]
     },
     "execution_count": 4,
     "metadata": {},
     "output_type": "execute_result"
    }
   ],
   "source": [
    "idx"
   ]
  },
  {
   "cell_type": "code",
   "execution_count": 5,
   "metadata": {
    "collapsed": true
   },
   "outputs": [],
   "source": [
    "ser = pd.Series(np.random.randn(len(idx)), index=idx)"
   ]
  },
  {
   "cell_type": "code",
   "execution_count": 6,
   "metadata": {
    "collapsed": false
   },
   "outputs": [
    {
     "data": {
      "text/plain": [
       "2000-01-01   -0.713351\n",
       "2000-01-02   -0.116200\n",
       "2000-01-03   -0.344408\n",
       "2000-01-04    0.431331\n",
       "2000-01-05    0.340841\n",
       "2000-01-06   -0.645373\n",
       "2000-01-07    0.445433\n",
       "2000-01-08   -0.128746\n",
       "2000-01-09    0.542795\n",
       "2000-01-10    0.382887\n",
       "2000-01-11   -0.407784\n",
       "2000-01-12   -0.158363\n",
       "2000-01-13   -0.145082\n",
       "2000-01-14    0.141450\n",
       "2000-01-15   -1.991550\n",
       "2000-01-16    1.160327\n",
       "2000-01-17    0.007838\n",
       "2000-01-18   -0.313985\n",
       "2000-01-19    0.661449\n",
       "2000-01-20    0.493870\n",
       "2000-01-21   -1.411900\n",
       "2000-01-22   -0.291092\n",
       "2000-01-23    0.348747\n",
       "2000-01-24    0.829680\n",
       "2000-01-25    1.715262\n",
       "2000-01-26    0.876165\n",
       "2000-01-27    0.062919\n",
       "2000-01-28   -0.383559\n",
       "2000-01-29    0.106438\n",
       "2000-01-30    0.828244\n",
       "                ...   \n",
       "2001-04-15    0.723026\n",
       "2001-04-16    1.058354\n",
       "2001-04-17   -0.839161\n",
       "2001-04-18   -0.717099\n",
       "2001-04-19   -1.265723\n",
       "2001-04-20    0.719954\n",
       "2001-04-21    2.066781\n",
       "2001-04-22   -1.551867\n",
       "2001-04-23    0.698596\n",
       "2001-04-24   -1.001575\n",
       "2001-04-25    1.814804\n",
       "2001-04-26   -0.254692\n",
       "2001-04-27   -1.975040\n",
       "2001-04-28    0.409673\n",
       "2001-04-29   -1.003756\n",
       "2001-04-30    0.874885\n",
       "2001-05-01    0.515705\n",
       "2001-05-02    0.079036\n",
       "2001-05-03    0.227214\n",
       "2001-05-04    0.398263\n",
       "2001-05-05   -0.851537\n",
       "2001-05-06   -0.019775\n",
       "2001-05-07   -3.077650\n",
       "2001-05-08    1.015224\n",
       "2001-05-09   -0.094331\n",
       "2001-05-10    1.307940\n",
       "2001-05-11   -1.938541\n",
       "2001-05-12    1.377578\n",
       "2001-05-13    0.296582\n",
       "2001-05-14   -0.950764\n",
       "Freq: D, Length: 500, dtype: float64"
      ]
     },
     "execution_count": 6,
     "metadata": {},
     "output_type": "execute_result"
    }
   ],
   "source": [
    "ser"
   ]
  },
  {
   "cell_type": "code",
   "execution_count": 9,
   "metadata": {},
   "outputs": [
    {
     "data": {
      "text/plain": [
       "<matplotlib.axes._subplots.AxesSubplot at 0x7f46c21f8e48>"
      ]
     },
     "execution_count": 9,
     "metadata": {},
     "output_type": "execute_result"
    },
    {
     "data": {
      "image/png": "[encoded data removed]",
      "text/plain": [
       "<matplotlib.figure.Figure at 0x7f46c21c9c18>"
      ]
     },
     "metadata": {},
     "output_type": "display_data"
    }
   ],
   "source": [
    "%matplotlib inline\n",
    "ser.hist(bins=20)\n"
   ]
  },
  {
   "cell_type": "code",
   "execution_count": 11,
   "metadata": {},
   "outputs": [
    {
     "data": {
      "text/plain": [
       "<matplotlib.axes._subplots.AxesSubplot at 0x7f46bf873ac8>"
      ]
     },
     "execution_count": 11,
     "metadata": {},
     "output_type": "execute_result"
    },
    {
     "data": {
      "image/png": "[encoded data removed]",
      "text/plain": [
       "<matplotlib.figure.Figure at 0x7f46f50937b8>"
      ]
     },
     "metadata": {},
     "output_type": "display_data"
    }
   ],
   "source": [
    "ser.plot.kde()"
   ]
  },
  {
   "cell_type": "code",
   "execution_count": 15,
   "metadata": {},
   "outputs": [
    {
     "data": {
      "text/plain": [
       "(2000-01-01   -0.713351\n",
       " 2000-01-02   -0.116200\n",
       " 2000-01-03   -0.344408\n",
       " 2000-01-04    0.431331\n",
       " Freq: D, dtype: float64, 2000-01-01         NaN\n",
       " 2000-01-02         NaN\n",
       " 2000-01-03   -0.713351\n",
       " 2000-01-04   -0.116200\n",
       " Freq: D, dtype: float64)"
      ]
     },
     "execution_count": 15,
     "metadata": {},
     "output_type": "execute_result"
    }
   ],
   "source": [
    "ser[:4], ser.shift(2)[:4]"
   ]
  },
  {
   "cell_type": "code",
   "execution_count": 16,
   "metadata": {
    "collapsed": true
   },
   "outputs": [],
   "source": [
    "ser2 = ser + ser.shift(2)"
   ]
  },
  {
   "cell_type": "code",
   "execution_count": 17,
   "metadata": {
    "collapsed": false
   },
   "outputs": [
    {
     "data": {
      "text/plain": [
       "2000-01-01         NaN\n",
       "2000-01-02         NaN\n",
       "2000-01-03   -1.057760\n",
       "2000-01-04    0.315131\n",
       "2000-01-05   -0.003567\n",
       "2000-01-06   -0.214042\n",
       "2000-01-07    0.786274\n",
       "2000-01-08   -0.774119\n",
       "2000-01-09    0.988228\n",
       "2000-01-10    0.254140\n",
       "2000-01-11    0.135011\n",
       "2000-01-12    0.224524\n",
       "2000-01-13   -0.552867\n",
       "2000-01-14   -0.016913\n",
       "2000-01-15   -2.136632\n",
       "2000-01-16    1.301777\n",
       "2000-01-17   -1.983712\n",
       "2000-01-18    0.846342\n",
       "2000-01-19    0.669288\n",
       "2000-01-20    0.179885\n",
       "2000-01-21   -0.750451\n",
       "2000-01-22    0.202778\n",
       "2000-01-23   -1.063153\n",
       "2000-01-24    0.538588\n",
       "2000-01-25    2.064009\n",
       "2000-01-26    1.705845\n",
       "2000-01-27    1.778181\n",
       "2000-01-28    0.492607\n",
       "2000-01-29    0.169357\n",
       "2000-01-30    0.444685\n",
       "                ...   \n",
       "2001-04-15    0.611976\n",
       "2001-04-16    0.019799\n",
       "2001-04-17   -0.116136\n",
       "2001-04-18    0.341254\n",
       "2001-04-19   -2.104884\n",
       "2001-04-20    0.002855\n",
       "2001-04-21    0.801059\n",
       "2001-04-22   -0.831912\n",
       "2001-04-23    2.765377\n",
       "2001-04-24   -2.553441\n",
       "2001-04-25    2.513400\n",
       "2001-04-26   -1.256267\n",
       "2001-04-27   -0.160236\n",
       "2001-04-28    0.154981\n",
       "2001-04-29   -2.978796\n",
       "2001-04-30    1.284558\n",
       "2001-05-01   -0.488052\n",
       "2001-05-02    0.953921\n",
       "2001-05-03    0.742919\n",
       "2001-05-04    0.477299\n",
       "2001-05-05   -0.624323\n",
       "2001-05-06    0.378488\n",
       "2001-05-07   -3.929187\n",
       "2001-05-08    0.995449\n",
       "2001-05-09   -3.171981\n",
       "2001-05-10    2.323163\n",
       "2001-05-11   -2.032872\n",
       "2001-05-12    2.685518\n",
       "2001-05-13   -1.641958\n",
       "2001-05-14    0.426814\n",
       "Freq: D, Length: 500, dtype: float64"
      ]
     },
     "execution_count": 17,
     "metadata": {},
     "output_type": "execute_result"
    }
   ],
   "source": [
    "ser2"
   ]
  },
  {
   "cell_type": "code",
   "execution_count": 25,
   "metadata": {
    "collapsed": false
   },
   "outputs": [
    {
     "data": {
      "text/plain": [
       "2000-03-31    0.040033\n",
       "2000-06-30   -0.009098\n",
       "2000-09-30    0.124207\n",
       "2000-12-31   -0.025218\n",
       "2001-03-31   -0.015155\n",
       "2001-06-30   -0.018401\n",
       "Freq: Q-DEC, dtype: float64"
      ]
     },
     "execution_count": 25,
     "metadata": {},
     "output_type": "execute_result"
    }
   ],
   "source": [
    "ser.resample('Q')"
   ]
  },
  {
   "cell_type": "code",
   "execution_count": 26,
   "metadata": {
    "collapsed": false
   },
   "outputs": [
    {
     "data": {
      "text/plain": [
       "2000-01-31    0.238891\n",
       "2000-02-29   -0.076512\n",
       "2000-03-31   -0.049799\n",
       "2000-04-30   -0.030658\n",
       "2000-05-31   -0.348060\n",
       "2000-06-30    0.362722\n",
       "2000-07-31    0.083638\n",
       "2000-08-31    0.047607\n",
       "2000-09-30    0.245283\n",
       "2000-10-31   -0.074469\n",
       "2000-11-30   -0.129972\n",
       "2000-12-31    0.125407\n",
       "2001-01-31   -0.247273\n",
       "2001-02-28    0.136106\n",
       "2001-03-31    0.080341\n",
       "2001-04-30   -0.093915\n",
       "2001-05-31    0.143416\n",
       "Freq: M, dtype: float64"
      ]
     },
     "execution_count": 26,
     "metadata": {},
     "output_type": "execute_result"
    }
   ],
   "source": [
    "ser.resample('m')"
   ]
  },
  {
   "cell_type": "code",
   "execution_count": 27,
   "metadata": {
    "collapsed": false
   },
   "outputs": [
    {
     "data": {
      "text/plain": [
       "2000-03-31    0.040033\n",
       "2000-06-30   -0.009098\n",
       "2000-09-30    0.124207\n",
       "2000-12-31   -0.025218\n",
       "2001-03-31   -0.015155\n",
       "2001-06-30   -0.018401\n",
       "Freq: Q-DEC, dtype: float64"
      ]
     },
     "execution_count": 27,
     "metadata": {},
     "output_type": "execute_result"
    }
   ],
   "source": [
    "ser.resample('Q')"
   ]
  },
  {
   "cell_type": "code",
   "execution_count": null,
   "metadata": {
    "collapsed": true
   },
   "outputs": [],
   "source": [
    "# http://pandas.pydata.org/pandas-docs/stable/timeseries.html#offset-aliases"
   ]
  },
  {
   "cell_type": "code",
   "execution_count": 20,
   "metadata": {
    "collapsed": true
   },
   "outputs": [
    {
     "ename": "ImmediateDeprecationError",
     "evalue": "\nYahoo Daily has been immediately deprecated due to large breaks in the API without the\nintroduction of a stable replacement. Pull Requests to re-enable these data\nconnectors are welcome.\n\nSee https://github.com/pydata/pandas-datareader/issues\n",
     "output_type": "error",
     "traceback": [
      "\u001b[0;31m---------------------------------------------------------------------------\u001b[0m",
      "\u001b[0;31mImmediateDeprecationError\u001b[0m                 Traceback (most recent call last)",
      "\u001b[0;32m<ipython-input-20-ba381d2c5620>\u001b[0m in \u001b[0;36m<module>\u001b[0;34m()\u001b[0m\n\u001b[1;32m      1\u001b[0m \u001b[0;34m\u001b[0m\u001b[0m\n\u001b[0;32m----> 2\u001b[0;31m \u001b[0mspy\u001b[0m \u001b[0;34m=\u001b[0m \u001b[0mdata\u001b[0m\u001b[0;34m.\u001b[0m\u001b[0mDataReader\u001b[0m\u001b[0;34m(\u001b[0m\u001b[0;34m'SPY'\u001b[0m\u001b[0;34m,\u001b[0m \u001b[0mdata_source\u001b[0m\u001b[0;34m=\u001b[0m\u001b[0;34m'yahoo'\u001b[0m\u001b[0;34m)\u001b[0m\u001b[0;34m\u001b[0m\u001b[0m\n\u001b[0m",
      "\u001b[0;32m~/.local/lib/python3.6/site-packages/pandas_datareader/data.py\u001b[0m in \u001b[0;36mDataReader\u001b[0;34m(name, data_source, start, end, retry_count, pause, session, access_key)\u001b[0m\n\u001b[1;32m    289\u001b[0m     \"\"\"\n\u001b[1;32m    290\u001b[0m     \u001b[0;32mif\u001b[0m \u001b[0mdata_source\u001b[0m \u001b[0;34m==\u001b[0m \u001b[0;34m\"yahoo\"\u001b[0m\u001b[0;34m:\u001b[0m\u001b[0;34m\u001b[0m\u001b[0m\n\u001b[0;32m--> 291\u001b[0;31m         \u001b[0;32mraise\u001b[0m \u001b[0mImmediateDeprecationError\u001b[0m\u001b[0;34m(\u001b[0m\u001b[0mDEP_ERROR_MSG\u001b[0m\u001b[0;34m.\u001b[0m\u001b[0mformat\u001b[0m\u001b[0;34m(\u001b[0m\u001b[0;34m'Yahoo Daily'\u001b[0m\u001b[0;34m)\u001b[0m\u001b[0;34m)\u001b[0m\u001b[0;34m\u001b[0m\u001b[0m\n\u001b[0m\u001b[1;32m    292\u001b[0m         return YahooDailyReader(symbols=name, start=start, end=end,\n\u001b[1;32m    293\u001b[0m                                 \u001b[0madjust_price\u001b[0m\u001b[0;34m=\u001b[0m\u001b[0;32mFalse\u001b[0m\u001b[0;34m,\u001b[0m \u001b[0mchunksize\u001b[0m\u001b[0;34m=\u001b[0m\u001b[0;36m25\u001b[0m\u001b[0;34m,\u001b[0m\u001b[0;34m\u001b[0m\u001b[0m\n",
      "\u001b[0;31mImmediateDeprecationError\u001b[0m: \nYahoo Daily has been immediately deprecated due to large breaks in the API without the\nintroduction of a stable replacement. Pull Requests to re-enable these data\nconnectors are welcome.\n\nSee https://github.com/pydata/pandas-datareader/issues\n"
     ]
    }
   ],
   "source": [
    "\n",
    "spy = data.DataReader('SPY', data_source='yahoo')"
   ]
  },
  {
   "cell_type": "code",
   "execution_count": 21,
   "metadata": {
    "collapsed": false
   },
   "outputs": [
    {
     "ename": "NameError",
     "evalue": "name 'spy' is not defined",
     "output_type": "error",
     "traceback": [
      "\u001b[0;31m---------------------------------------------------------------------------\u001b[0m",
      "\u001b[0;31mNameError\u001b[0m                                 Traceback (most recent call last)",
      "\u001b[0;32m<ipython-input-21-92c99a88a85b>\u001b[0m in \u001b[0;36m<module>\u001b[0;34m()\u001b[0m\n\u001b[0;32m----> 1\u001b[0;31m \u001b[0mspy\u001b[0m\u001b[0;34m.\u001b[0m\u001b[0mtail\u001b[0m\u001b[0;34m(\u001b[0m\u001b[0;34m)\u001b[0m\u001b[0;34m.\u001b[0m\u001b[0mT\u001b[0m\u001b[0;34m\u001b[0m\u001b[0m\n\u001b[0m",
      "\u001b[0;31mNameError\u001b[0m: name 'spy' is not defined"
     ]
    }
   ],
   "source": [
    "spy.tail().T"
   ]
  },
  {
   "cell_type": "code",
   "execution_count": 31,
   "metadata": {
    "collapsed": true
   },
   "outputs": [],
   "source": [
    "spy['mean50'] = pd.rolling_mean(spy.Close, 50)\n",
    "spy['mean200'] = pd.rolling_mean(spy.Close, 200)"
   ]
  },
  {
   "cell_type": "code",
   "execution_count": 33,
   "metadata": {
    "collapsed": false
   },
   "outputs": [
    {
     "data": {
      "text/html": [
       "<div>\n",
       "<table border=\"1\" class=\"dataframe\">\n",
       "  <thead>\n",
       "    <tr style=\"text-align: right;\">\n",
       "      <th>Date</th>\n",
       "      <th>2016-01-06 00:00:00</th>\n",
       "      <th>2016-01-07 00:00:00</th>\n",
       "      <th>2016-01-08 00:00:00</th>\n",
       "      <th>2016-01-11 00:00:00</th>\n",
       "      <th>2016-01-12 00:00:00</th>\n",
       "    </tr>\n",
       "  </thead>\n",
       "  <tbody>\n",
       "    <tr>\n",
       "      <th>Open</th>\n",
       "      <td>1.983400e+02</td>\n",
       "      <td>1.953300e+02</td>\n",
       "      <td>1.951900e+02</td>\n",
       "      <td>1.930100e+02</td>\n",
       "      <td>1.938200e+02</td>\n",
       "    </tr>\n",
       "    <tr>\n",
       "      <th>High</th>\n",
       "      <td>2.000600e+02</td>\n",
       "      <td>1.974400e+02</td>\n",
       "      <td>1.958500e+02</td>\n",
       "      <td>1.934100e+02</td>\n",
       "      <td>1.945500e+02</td>\n",
       "    </tr>\n",
       "    <tr>\n",
       "      <th>Low</th>\n",
       "      <td>1.976000e+02</td>\n",
       "      <td>1.935900e+02</td>\n",
       "      <td>1.915800e+02</td>\n",
       "      <td>1.898200e+02</td>\n",
       "      <td>1.911400e+02</td>\n",
       "    </tr>\n",
       "    <tr>\n",
       "      <th>Close</th>\n",
       "      <td>1.988200e+02</td>\n",
       "      <td>1.940500e+02</td>\n",
       "      <td>1.919200e+02</td>\n",
       "      <td>1.921100e+02</td>\n",
       "      <td>1.936600e+02</td>\n",
       "    </tr>\n",
       "    <tr>\n",
       "      <th>Volume</th>\n",
       "      <td>1.521126e+08</td>\n",
       "      <td>2.134361e+08</td>\n",
       "      <td>2.098172e+08</td>\n",
       "      <td>1.879413e+08</td>\n",
       "      <td>1.662413e+08</td>\n",
       "    </tr>\n",
       "    <tr>\n",
       "      <th>Adj Close</th>\n",
       "      <td>1.988200e+02</td>\n",
       "      <td>1.940500e+02</td>\n",
       "      <td>1.919200e+02</td>\n",
       "      <td>1.921100e+02</td>\n",
       "      <td>1.936600e+02</td>\n",
       "    </tr>\n",
       "    <tr>\n",
       "      <th>mean50</th>\n",
       "      <td>2.066166e+02</td>\n",
       "      <td>2.063576e+02</td>\n",
       "      <td>2.060640e+02</td>\n",
       "      <td>2.057272e+02</td>\n",
       "      <td>2.054238e+02</td>\n",
       "    </tr>\n",
       "    <tr>\n",
       "      <th>mean200</th>\n",
       "      <td>2.060602e+02</td>\n",
       "      <td>2.059863e+02</td>\n",
       "      <td>2.059171e+02</td>\n",
       "      <td>2.058513e+02</td>\n",
       "      <td>2.057909e+02</td>\n",
       "    </tr>\n",
       "  </tbody>\n",
       "</table>\n",
       "</div>"
      ],
      "text/plain": [
       "Date         2016-01-06    2016-01-07    2016-01-08    2016-01-11  \\\n",
       "Open       1.983400e+02  1.953300e+02  1.951900e+02  1.930100e+02   \n",
       "High       2.000600e+02  1.974400e+02  1.958500e+02  1.934100e+02   \n",
       "Low        1.976000e+02  1.935900e+02  1.915800e+02  1.898200e+02   \n",
       "Close      1.988200e+02  1.940500e+02  1.919200e+02  1.921100e+02   \n",
       "Volume     1.521126e+08  2.134361e+08  2.098172e+08  1.879413e+08   \n",
       "Adj Close  1.988200e+02  1.940500e+02  1.919200e+02  1.921100e+02   \n",
       "mean50     2.066166e+02  2.063576e+02  2.060640e+02  2.057272e+02   \n",
       "mean200    2.060602e+02  2.059863e+02  2.059171e+02  2.058513e+02   \n",
       "\n",
       "Date         2016-01-12  \n",
       "Open       1.938200e+02  \n",
       "High       1.945500e+02  \n",
       "Low        1.911400e+02  \n",
       "Close      1.936600e+02  \n",
       "Volume     1.662413e+08  \n",
       "Adj Close  1.936600e+02  \n",
       "mean50     2.054238e+02  \n",
       "mean200    2.057909e+02  "
      ]
     },
     "execution_count": 33,
     "metadata": {},
     "output_type": "execute_result"
    }
   ],
   "source": [
    "spy.tail().T"
   ]
  },
  {
   "cell_type": "code",
   "execution_count": null,
   "metadata": {
    "collapsed": true
   },
   "outputs": [],
   "source": []
  }
 ],
 "metadata": {
  "kernelspec": {
   "display_name": "Python 3",
   "language": "python",
   "name": "python3"
  },
  "language_info": {
   "codemirror_mode": {
    "name": "ipython",
    "version": 3
   },
   "file_extension": ".py",
   "mimetype": "text/x-python",
   "name": "python",
   "nbconvert_exporter": "python",
   "pygments_lexer": "ipython3",
   "version": "3.6.3"
  }
 },
 "nbformat": 4,
 "nbformat_minor": 2
}
